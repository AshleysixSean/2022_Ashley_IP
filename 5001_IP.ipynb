{
 "cells": [
  {
   "cell_type": "code",
   "execution_count": 1,
   "id": "00d34813",
   "metadata": {},
   "outputs": [],
   "source": [
    "import numpy as np\n",
    "import pandas as pd\n",
    "from sklearn.ensemble import RandomForestClassifier\n",
    "from sklearn.metrics import accuracy_score\n",
    "from sklearn.metrics import precision_score\n",
    "from sklearn.metrics import recall_score\n",
    "from sklearn.metrics import f1_score\n",
    "from sklearn.metrics import roc_auc_score\n",
    "import matplotlib.pyplot as plt\n",
    "import time\n",
    "import warnings"
   ]
  },
  {
   "cell_type": "code",
   "execution_count": 2,
   "id": "57e2af1e",
   "metadata": {},
   "outputs": [
    {
     "name": "stdout",
     "output_type": "stream",
     "text": [
      "   MO HLADR+ MFI (cells/ul)  Neu CD64+MFI (cells/ul)  CD3+T (cells/ul)  \\\n",
      "0                    3556.0                   2489.0            265.19   \n",
      "1                    1906.0                    134.0           1442.61   \n",
      "2                    1586.0                     71.0           1332.74   \n",
      "3                     683.0                     94.0            419.23   \n",
      "4                    1032.0                     71.0           1102.72   \n",
      "\n",
      "   CD8+T (cells/ul)  CD4+T (cells/ul)  NK (cells/ul)  CD19+ (cells/ul)  \\\n",
      "0             77.53            176.55           0.00              4.20   \n",
      "1            551.90            876.07         112.10            168.15   \n",
      "2            684.20            655.26         244.95            216.52   \n",
      "3            255.80            162.17          72.05             44.68   \n",
      "4            480.27            625.30         188.78            130.77   \n",
      "\n",
      "   CD45+ (cells/ul)  Age  Sex 0M1F  Mono CD64+MFI (cells/ul)  \n",
      "0            307.91   52         0                    7515.0  \n",
      "1           1735.48   20         1                    1756.0  \n",
      "2           1820.04   28         1                    1311.0  \n",
      "3            538.22   55         1                    1443.0  \n",
      "4           1427.97   28         1                    1542.0  \n",
      "0    1\n",
      "1    0\n",
      "2    0\n",
      "3    0\n",
      "4    0\n",
      "Name: label, dtype: int64\n"
     ]
    }
   ],
   "source": [
    "train_data = pd.read_csv(\"train.csv\")\n",
    "train_data = train_data.dropna()\n",
    "test_data = pd.read_csv(\"test.csv\")\n",
    "\n",
    "train_data2 = train_data.drop('id', axis=1)\n",
    "#print(train_data2.head())\n",
    "\n",
    "test_data2 = test_data.drop('id', axis=1)\n",
    "#print(test_data2.head())\n",
    "\n",
    "train_X = train_data2.drop('label', axis=1)\n",
    "train_Y = train_data['label']\n",
    "print(train_X.head())\n",
    "print(train_Y.head())"
   ]
  },
  {
   "cell_type": "code",
   "execution_count": 3,
   "id": "67619f7f",
   "metadata": {},
   "outputs": [],
   "source": [
    "from sklearn.model_selection import train_test_split\n",
    "X_train, X_test, y_train, y_test = train_test_split(train_X, train_Y, test_size = 0.2, random_state=5)\n",
    "#print(X_train.shape)\n",
    "#print(y_train.shape)\n",
    "#print(X_test.shape)\n",
    "#print(y_test.shape)"
   ]
  },
  {
   "cell_type": "code",
   "execution_count": 4,
   "id": "564c2a22",
   "metadata": {},
   "outputs": [
    {
     "name": "stdout",
     "output_type": "stream",
     "text": [
      "accuracy:  0.9444444444444444\n",
      "precison:  0.9615384615384616\n",
      "recall:  0.9166666666666667\n",
      "f1score:  0.9345454545454546\n",
      "AUC:  0.9166666666666667\n",
      "[[12  0]\n",
      " [ 1  5]]\n"
     ]
    }
   ],
   "source": [
    "rf = RandomForestClassifier(n_estimators=100,max_depth=50,random_state=5)\n",
    "rf.fit(X_train, y_train)\n",
    "\n",
    "accuracy = accuracy_score(y_test, rf.predict(X_test))\n",
    "precison = precision_score(y_test, rf.predict(X_test),average='macro')\n",
    "recall = recall_score(y_test, rf.predict(X_test),average='macro')\n",
    "f1score = f1_score(y_test, rf.predict(X_test),average='macro')\n",
    "test_auc = roc_auc_score(y_test, rf.predict(X_test))\n",
    "\n",
    "print(\"accuracy: \",accuracy)\n",
    "print(\"precison: \",precison)\n",
    "print(\"recall: \",recall)\n",
    "print(\"f1score: \",f1score)\n",
    "print(\"AUC: \",test_auc)\n",
    "\n",
    "# show the confusion matrix\n",
    "from sklearn.metrics import confusion_matrix, ConfusionMatrixDisplay\n",
    "matrix = confusion_matrix(y_test, rf.predict(X_test))\n",
    "print(matrix)"
   ]
  },
  {
   "cell_type": "code",
   "execution_count": 5,
   "id": "f0b1f13d",
   "metadata": {},
   "outputs": [],
   "source": [
    "rf2 = RandomForestClassifier(n_estimators=100,max_depth=50,random_state=5)\n",
    "rf2.fit(train_X, train_Y)\n",
    "\n",
    "predict_result_rf = rf2.predict(test_data2)\n",
    "df_result_rf = pd.DataFrame(predict_result_rf).reset_index()\n",
    "#print(df_result_rf)\n",
    "\n",
    "df_result_rf.columns = ['id','label']\n",
    "df_result_rf.to_csv('predicted_results_rf.csv',index=False)"
   ]
  }
 ],
 "metadata": {
  "kernelspec": {
   "display_name": "Python 3",
   "language": "python",
   "name": "python3"
  },
  "language_info": {
   "codemirror_mode": {
    "name": "ipython",
    "version": 3
   },
   "file_extension": ".py",
   "mimetype": "text/x-python",
   "name": "python",
   "nbconvert_exporter": "python",
   "pygments_lexer": "ipython3",
   "version": "3.8.8"
  }
 },
 "nbformat": 4,
 "nbformat_minor": 5
}
